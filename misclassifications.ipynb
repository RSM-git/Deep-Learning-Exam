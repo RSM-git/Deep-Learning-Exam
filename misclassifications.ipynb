{
 "cells": [
  {
   "cell_type": "markdown",
   "metadata": {
    "id": "dYtGrMyYQsux"
   },
   "source": [
    "# Imports"
   ]
  },
  {
   "cell_type": "code",
   "execution_count": null,
   "metadata": {
    "executionInfo": {
     "elapsed": 1115,
     "status": "ok",
     "timestamp": 1638817006334,
     "user": {
      "displayName": "Victor Olesen",
      "photoUrl": "https://lh3.googleusercontent.com/a/default-user=s64",
      "userId": "06718864350854979040"
     },
     "user_tz": -60
    },
    "id": "UmdAD5ZuQZ9n"
   },
   "outputs": [],
   "source": [
    "import torchvision\n",
    "import torch\n",
    "from torchvision import transforms\n",
    "import timm\n",
    "import torch.nn.functional as F\n",
    "from torch import nn\n",
    "from tqdm.notebook import tqdm\n",
    "from torchvision.models.resnet import resnet34\n",
    "import numpy as np \n",
    "import random \n",
    "import os \n",
    "import matplotlib.pyplot as plt"
   ]
  },
  {
   "cell_type": "markdown",
   "metadata": {
    "id": "8t_F-CIYQxaR"
   },
   "source": [
    "# Utils"
   ]
  },
  {
   "cell_type": "code",
   "execution_count": null,
   "metadata": {
    "executionInfo": {
     "elapsed": 25,
     "status": "ok",
     "timestamp": 1638817006335,
     "user": {
      "displayName": "Victor Olesen",
      "photoUrl": "https://lh3.googleusercontent.com/a/default-user=s64",
      "userId": "06718864350854979040"
     },
     "user_tz": -60
    },
    "id": "RUDCf9zKQjHV"
   },
   "outputs": [],
   "source": [
    "DEVICE = 'cuda' if torch.cuda.is_available() else 'cpu'"
   ]
  },
  {
   "cell_type": "code",
   "execution_count": null,
   "metadata": {
    "executionInfo": {
     "elapsed": 25,
     "status": "ok",
     "timestamp": 1638817006338,
     "user": {
      "displayName": "Victor Olesen",
      "photoUrl": "https://lh3.googleusercontent.com/a/default-user=s64",
      "userId": "06718864350854979040"
     },
     "user_tz": -60
    },
    "id": "9UwRQ6FkQ0xI"
   },
   "outputs": [],
   "source": [
    "def move_to(obj, device):\n",
    "    if torch.is_tensor(obj):\n",
    "        return obj.to(device)\n",
    "    elif isinstance(obj, dict):\n",
    "        res = {}\n",
    "        for k, v in obj.items():\n",
    "            res[k] = move_to(v, device)\n",
    "        return res\n",
    "    elif isinstance(obj, list):\n",
    "        res = []\n",
    "        for v in obj:\n",
    "            res.append(move_to(v, device))\n",
    "        return res\n",
    "    else:\n",
    "        raise TypeError(\"Invalid type for move_to\")"
   ]
  },
  {
   "cell_type": "code",
   "execution_count": null,
   "metadata": {
    "executionInfo": {
     "elapsed": 26,
     "status": "ok",
     "timestamp": 1638817006340,
     "user": {
      "displayName": "Victor Olesen",
      "photoUrl": "https://lh3.googleusercontent.com/a/default-user=s64",
      "userId": "06718864350854979040"
     },
     "user_tz": -60
    },
    "id": "oDIAqP1cSyo3"
   },
   "outputs": [],
   "source": [
    "train_transform = transforms.Compose([\n",
    "    transforms.RandomResizedCrop(32),\n",
    "    transforms.RandomHorizontalFlip(p=0.5),\n",
    "    transforms.RandomApply([transforms.ColorJitter(0.4, 0.4, 0.4, 0.1)], p=0.8),\n",
    "    transforms.RandomGrayscale(p=0.2),\n",
    "    transforms.Normalize([0.4914, 0.4822, 0.4465], [0.2023, 0.1994, 0.2010])])\n",
    "test_transform = transforms.Compose([\n",
    "    transforms.Normalize([0.4914, 0.4822, 0.4465], [0.2023, 0.1994, 0.2010])\n",
    "])"
   ]
  },
  {
   "cell_type": "code",
   "execution_count": null,
   "metadata": {
    "executionInfo": {
     "elapsed": 25,
     "status": "ok",
     "timestamp": 1638817006341,
     "user": {
      "displayName": "Victor Olesen",
      "photoUrl": "https://lh3.googleusercontent.com/a/default-user=s64",
      "userId": "06718864350854979040"
     },
     "user_tz": -60
    },
    "id": "bPp-pHHA_rZJ"
   },
   "outputs": [],
   "source": [
    "def seed_everything(seed_value):\n",
    "    random.seed(seed_value)\n",
    "    np.random.seed(seed_value)\n",
    "    torch.manual_seed(seed_value)\n",
    "    os.environ['PYTHONHASHSEED'] = str(seed_value)\n",
    "\n",
    "    if torch.cuda.is_available():\n",
    "        torch.cuda.manual_seed(seed_value)\n",
    "        torch.cuda.manual_seed_all(seed_value)\n",
    "        torch.backends.cudnn.deterministic = True\n",
    "        torch.backends.cudnn.benchmark = True"
   ]
  },
  {
   "cell_type": "markdown",
   "metadata": {
    "id": "IzerQoV4Q3hc"
   },
   "source": [
    "# Dataset"
   ]
  },
  {
   "cell_type": "code",
   "execution_count": null,
   "metadata": {
    "colab": {
     "base_uri": "https://localhost:8080/"
    },
    "executionInfo": {
     "elapsed": 1892,
     "status": "ok",
     "timestamp": 1638817008209,
     "user": {
      "displayName": "Victor Olesen",
      "photoUrl": "https://lh3.googleusercontent.com/a/default-user=s64",
      "userId": "06718864350854979040"
     },
     "user_tz": -60
    },
    "id": "3xFkKH6uQ4ym",
    "outputId": "5cdfa7eb-126b-4997-8499-7e7cfcafbe39"
   },
   "outputs": [],
   "source": [
    "seed_everything(21)\n",
    "ds_train = torchvision.datasets.CIFAR10('data', download=True, transform = transforms.ToTensor())\n",
    "ds_test = torchvision.datasets.CIFAR10('data', train=False, download=True, transform = transforms.ToTensor())\n",
    "class_dict = {\n",
    "    0: 'airplane',\n",
    "    1: 'car',\n",
    "    2: 'bird',\n",
    "    3: 'cat',\n",
    "    4: 'deer',\n",
    "    5: 'dog',\n",
    "    6: 'frog',\n",
    "    7: 'horse',\n",
    "    8: 'ship',\n",
    "    9: 'truck'\n",
    "}"
   ]
  },
  {
   "cell_type": "markdown",
   "metadata": {
    "id": "_2eJV6k9S-0M"
   },
   "source": [
    "# Model"
   ]
  },
  {
   "cell_type": "code",
   "execution_count": null,
   "metadata": {
    "executionInfo": {
     "elapsed": 19,
     "status": "ok",
     "timestamp": 1638817008211,
     "user": {
      "displayName": "Victor Olesen",
      "photoUrl": "https://lh3.googleusercontent.com/a/default-user=s64",
      "userId": "06718864350854979040"
     },
     "user_tz": -60
    },
    "id": "eSezCIeuS_hR"
   },
   "outputs": [],
   "source": [
    "class Model(nn.Module):\n",
    "    def __init__(self, feature_dim=128):\n",
    "        super(Model, self).__init__()\n",
    "\n",
    "        self.f = []\n",
    "        for name, module in resnet34().named_children():\n",
    "            if name == 'conv1':\n",
    "                module = nn.Conv2d(3, 64, kernel_size=3, stride=1, padding=1, bias=False)\n",
    "            if not isinstance(module, nn.Linear) and not isinstance(module, nn.MaxPool2d):\n",
    "                self.f.append(module)\n",
    "        # encoder\n",
    "        self.f = nn.Sequential(*self.f)\n",
    "        # projection head\n",
    "        self.g = nn.Sequential(nn.Linear(512, 512, bias=False), nn.BatchNorm1d(512),\n",
    "                               nn.ReLU(inplace=True), nn.Linear(512, feature_dim, bias=True))\n",
    "\n",
    "    def forward(self, x):\n",
    "        x = self.f(x)\n",
    "        h = torch.flatten(x, start_dim=1)\n",
    "        q = self.g[0](h)\n",
    "        z = self.g(h)\n",
    "        \n",
    "        return 0, F.normalize(q, dim=-1), F.normalize(z, dim=-1)"
   ]
  },
  {
   "cell_type": "markdown",
   "metadata": {
    "id": "ufOhjuS-_rZO"
   },
   "source": [
    "# Misclassifications"
   ]
  },
  {
   "cell_type": "code",
   "execution_count": null,
   "metadata": {
    "executionInfo": {
     "elapsed": 28,
     "status": "ok",
     "timestamp": 1638817008547,
     "user": {
      "displayName": "Victor Olesen",
      "photoUrl": "https://lh3.googleusercontent.com/a/default-user=s64",
      "userId": "06718864350854979040"
     },
     "user_tz": -60
    },
    "id": "yVbcWSUd_rZO"
   },
   "outputs": [],
   "source": [
    "def get_misclassified(model, dl_test, dl_train, k=200):\n",
    "    incorrect_samples = []\n",
    "    true_labels = []\n",
    "    predicted_labels = []\n",
    "    model.eval()\n",
    "    with torch.no_grad():\n",
    "        train_preds_q = []\n",
    "        labels = []\n",
    "        for batch in tqdm(dl_train):\n",
    "            X,y = batch\n",
    "            X = move_to(X, DEVICE)\n",
    "            y = move_to(y, DEVICE)\n",
    "            \n",
    "            X = test_transform(X)\n",
    "            \n",
    "            output_x, output_q , output_z = model(X)\n",
    "            \n",
    "            train_preds_q.append(output_q)\n",
    "            \n",
    "            labels.append(y)\n",
    "        \n",
    "        train_preds_q = torch.cat(train_preds_q, dim=0)\n",
    "        labels = torch.cat(labels, dim=0)\n",
    "        \n",
    "        for batch in tqdm(dl_test):\n",
    "            X, y = batch\n",
    "            X = move_to(X, DEVICE)\n",
    "            y = move_to(y, DEVICE)\n",
    "            \n",
    "            X = test_transform(X)\n",
    "            \n",
    "            output_x, output_q , output_z = model(X)\n",
    "\n",
    "            distances_q = train_preds_q @ torch.transpose(output_q, 0, 1)\n",
    "\n",
    "            distance_q, sim_indices_q = distances_q.topk(k=k, dim=0)\n",
    "            \n",
    "            sim_labels_q = torch.gather(labels.expand(sim_indices_q.shape[0], -1), dim=-1, index=sim_indices_q)\n",
    "            \n",
    "            # [batch_size]\n",
    "            max_labels_q, _ = torch.mode(sim_labels_q, dim=0)\n",
    "            \n",
    "            incorrect_mask = y != max_labels_q\n",
    "            incorrect = X[incorrect_mask]\n",
    "            true_labels.append(y[incorrect_mask])\n",
    "            predicted_labels.append(max_labels_q[incorrect_mask])\n",
    "            \n",
    "            incorrect_samples.append(incorrect)\n",
    "    incorrect_samples = torch.cat(incorrect_samples, dim=0)\n",
    "    true_labels = torch.cat(true_labels, dim=0)\n",
    "    predicted_labels = torch.cat(predicted_labels, dim=0)\n",
    "            \n",
    "    return incorrect_samples, true_labels, predicted_labels"
   ]
  },
  {
   "cell_type": "code",
   "execution_count": null,
   "metadata": {
    "executionInfo": {
     "elapsed": 28,
     "status": "ok",
     "timestamp": 1638817008549,
     "user": {
      "displayName": "Victor Olesen",
      "photoUrl": "https://lh3.googleusercontent.com/a/default-user=s64",
      "userId": "06718864350854979040"
     },
     "user_tz": -60
    },
    "id": "xqU_Fxyh_rZP"
   },
   "outputs": [],
   "source": [
    "def misclassified_stats(samples, true_labels, predicted_labels):\n",
    "    unique_true_labels = torch.unique(true_labels)\n",
    "    unique_predicted_labels = torch.unique(predicted_labels)\n",
    "    \n",
    "    for i in range(len(unique_true_labels)):\n",
    "        label = unique_true_labels[i]\n",
    "        print(f\"True label: {class_dict[label.item()]}\")\n",
    "        mask = true_labels == label\n",
    "        predictions = predicted_labels[mask]\n",
    "        unique, counts = torch.unique(predictions, return_counts=True)\n",
    "        for k in range(len(unique)):\n",
    "            print(f\"    {counts[k]} predictions of {class_dict[unique[k].item()]}\")\n",
    "        print(len(predictions))"
   ]
  },
  {
   "cell_type": "code",
   "execution_count": null,
   "metadata": {
    "executionInfo": {
     "elapsed": 26,
     "status": "ok",
     "timestamp": 1638817008550,
     "user": {
      "displayName": "Victor Olesen",
      "photoUrl": "https://lh3.googleusercontent.com/a/default-user=s64",
      "userId": "06718864350854979040"
     },
     "user_tz": -60
    },
    "id": "Y0GKkDOP_rZP"
   },
   "outputs": [],
   "source": [
    "import cv2\n",
    "def plot_misclassified(samples, true_labels, predicted_labels, n_images=3):\n",
    "    resize = torchvision.transforms.Resize((128,128))\n",
    "    unique_true_labels = torch.unique(true_labels)\n",
    "    n_unique_labels = len(unique_true_labels)\n",
    "    fig, axes = plt.subplots(n_unique_labels, n_images, figsize=(5, 16))\n",
    "    for i in range(n_unique_labels):\n",
    "        label = unique_true_labels[i]\n",
    "        mask = true_labels == label\n",
    "        current_samples = samples[mask]\n",
    "        current_predictions = predicted_labels[mask]\n",
    "        n_incorrect = len(current_samples)\n",
    "        for k in range(n_images):\n",
    "            if k < n_incorrect:\n",
    "                ax = axes[i, k]\n",
    "                ax.set_xticklabels([])\n",
    "                ax.set_yticklabels([])\n",
    "                ax.set_xticks([])\n",
    "                ax.set_yticks([])\n",
    "                \n",
    "                sample = current_samples[k]\n",
    "                prediction = current_predictions[k]\n",
    "                sample = resize(sample)\n",
    "                image = torch.permute(sample, (1,2,0)).cpu().numpy()\n",
    "                image_mask = np.zeros((128,128))\n",
    "                norm_image = cv2.normalize(image, image_mask, 0, 1, cv2.NORM_MINMAX)\n",
    "                image = np.clip(norm_image, 0, 1)\n",
    "                if k == 0:\n",
    "                    ax.set_ylabel(f\"{class_dict[label.item()]}\", color='red',fontsize=18)\n",
    "                ax.set_title(f\"{class_dict[prediction.item()]}\", fontsize=16)\n",
    "                ax.imshow(image)\n",
    "    fig.tight_layout()"
   ]
  },
  {
   "cell_type": "code",
   "execution_count": null,
   "metadata": {
    "colab": {
     "base_uri": "https://localhost:8080/",
     "height": 1000,
     "referenced_widgets": [
      "0061198378034ba8a449710ad1925922",
      "5db0ec08c7164ddba5633d01b47fae3b",
      "a468ac5f59d144efb80a283d526b636d",
      "1cb87b5a6da544bebbad6ab4adb1a890",
      "374bcf4fb30e41f59f8d0ba8f886376d",
      "bc6c534ff44f4dad89b2e0fd49cdbcc7",
      "b7068d6a49304c71aaa9e2fc7ea434a1",
      "d0873bf3f45d4f139d1461db2bed533b",
      "fb42eb5bda164463a9a19602c25539e7",
      "1fe5bdc49ea447d9b34d0a8a329729a3",
      "b7899bd84c9d494b9f627ada906f14a2",
      "199415aa45ab4214add04c1b1be30e65",
      "fd1a99aef9e0450e8d43f0bd4e25caf2",
      "0c143033082941398cafb9835eb7fd78",
      "2a14906c4a7f40b4986f31b4d13cefe7",
      "3a727094566045c88db053dde043905e",
      "d7f15a7fe0014861b7df4478693e69d0",
      "e96198e60e7943de842bc44795e715d5",
      "65050d37a5b64b03a452180c666d72a9",
      "55480fac81ab4d84b8016a8605d7c367",
      "07fa779a389e4e88a124cec11ddfd061",
      "6deebdaefead4f4bb7e2843687cb9ee6"
     ]
    },
    "executionInfo": {
     "elapsed": 114241,
     "status": "ok",
     "timestamp": 1638817133031,
     "user": {
      "displayName": "Victor Olesen",
      "photoUrl": "https://lh3.googleusercontent.com/a/default-user=s64",
      "userId": "06718864350854979040"
     },
     "user_tz": -60
    },
    "id": "GVR5CEAo_rZQ",
    "outputId": "1a4de993-2b9f-4a5c-c4b2-0565ac59308e"
   },
   "outputs": [],
   "source": [
    "model = Model()\n",
    "model.cuda()\n",
    "model.load_state_dict(torch.load(\"best_model_resnet34.pt\"))\n",
    "\n",
    "batch_size_train = 20\n",
    "batch_size_test = 20\n",
    "dl_train = torch.utils.data.DataLoader(ds_train, batch_size=batch_size_train, shuffle=True, num_workers=2, pin_memory=True)\n",
    "dl_test = torch.utils.data.DataLoader(ds_test, batch_size=batch_size_test, shuffle=True, num_workers=2, pin_memory=True)\n",
    "\n",
    "incorrect_samples, true_labels, predicted_labels = get_misclassified(model, dl_test, dl_train)"
   ]
  },
  {
   "cell_type": "code",
   "execution_count": null,
   "metadata": {},
   "outputs": [],
   "source": [
    "misclassified_stats(incorrect_samples, true_labels, predicted_labels)\n",
    "plot_misclassified(incorrect_samples, true_labels, predicted_labels, n_images=3)"
   ]
  },
  {
   "cell_type": "code",
   "execution_count": null,
   "metadata": {},
   "outputs": [],
   "source": [
    "# Confusion matrix\n",
    "from sklearn.metrics import confusion_matrix, ConfusionMatrixDisplay\n",
    "cm = confusion_matrix(true_labels.cpu().numpy(), predicted_labels.cpu().numpy(), labels=[i for i in range(10)])\n",
    "disp = ConfusionMatrixDisplay(cm, display_labels=[class_dict[i] for i in range(10)])\n",
    "disp.plot(xticks_rotation='vertical')\n",
    "plt.title(\"Misclassification confusion matrix\", fontsize=18)\n",
    "plt.show()"
   ]
  }
 ],
 "metadata": {
  "accelerator": "GPU",
  "colab": {
   "collapsed_sections": [],
   "name": "misclassifications.ipynb",
   "provenance": []
  },
  "kernelspec": {
   "display_name": "Python 3",
   "language": "python",
   "name": "python3"
  },
  "language_info": {
   "codemirror_mode": {
    "name": "ipython",
    "version": 3
   },
   "file_extension": ".py",
   "mimetype": "text/x-python",
   "name": "python",
   "nbconvert_exporter": "python",
   "pygments_lexer": "ipython3",
   "version": "3.8.3"
  },
  "widgets": {
   "application/vnd.jupyter.widget-state+json": {
    "0061198378034ba8a449710ad1925922": {
     "model_module": "@jupyter-widgets/controls",
     "model_module_version": "1.5.0",
     "model_name": "HBoxModel",
     "state": {
      "_dom_classes": [],
      "_model_module": "@jupyter-widgets/controls",
      "_model_module_version": "1.5.0",
      "_model_name": "HBoxModel",
      "_view_count": null,
      "_view_module": "@jupyter-widgets/controls",
      "_view_module_version": "1.5.0",
      "_view_name": "HBoxView",
      "box_style": "",
      "children": [
       "IPY_MODEL_a468ac5f59d144efb80a283d526b636d",
       "IPY_MODEL_1cb87b5a6da544bebbad6ab4adb1a890",
       "IPY_MODEL_374bcf4fb30e41f59f8d0ba8f886376d"
      ],
      "layout": "IPY_MODEL_5db0ec08c7164ddba5633d01b47fae3b"
     }
    },
    "07fa779a389e4e88a124cec11ddfd061": {
     "model_module": "@jupyter-widgets/controls",
     "model_module_version": "1.5.0",
     "model_name": "DescriptionStyleModel",
     "state": {
      "_model_module": "@jupyter-widgets/controls",
      "_model_module_version": "1.5.0",
      "_model_name": "DescriptionStyleModel",
      "_view_count": null,
      "_view_module": "@jupyter-widgets/base",
      "_view_module_version": "1.2.0",
      "_view_name": "StyleView",
      "description_width": ""
     }
    },
    "0c143033082941398cafb9835eb7fd78": {
     "model_module": "@jupyter-widgets/controls",
     "model_module_version": "1.5.0",
     "model_name": "HTMLModel",
     "state": {
      "_dom_classes": [],
      "_model_module": "@jupyter-widgets/controls",
      "_model_module_version": "1.5.0",
      "_model_name": "HTMLModel",
      "_view_count": null,
      "_view_module": "@jupyter-widgets/controls",
      "_view_module_version": "1.5.0",
      "_view_name": "HTMLView",
      "description": "",
      "description_tooltip": null,
      "layout": "IPY_MODEL_e96198e60e7943de842bc44795e715d5",
      "placeholder": "​",
      "style": "IPY_MODEL_d7f15a7fe0014861b7df4478693e69d0",
      "value": "100%"
     }
    },
    "199415aa45ab4214add04c1b1be30e65": {
     "model_module": "@jupyter-widgets/controls",
     "model_module_version": "1.5.0",
     "model_name": "HBoxModel",
     "state": {
      "_dom_classes": [],
      "_model_module": "@jupyter-widgets/controls",
      "_model_module_version": "1.5.0",
      "_model_name": "HBoxModel",
      "_view_count": null,
      "_view_module": "@jupyter-widgets/controls",
      "_view_module_version": "1.5.0",
      "_view_name": "HBoxView",
      "box_style": "",
      "children": [
       "IPY_MODEL_0c143033082941398cafb9835eb7fd78",
       "IPY_MODEL_2a14906c4a7f40b4986f31b4d13cefe7",
       "IPY_MODEL_3a727094566045c88db053dde043905e"
      ],
      "layout": "IPY_MODEL_fd1a99aef9e0450e8d43f0bd4e25caf2"
     }
    },
    "1cb87b5a6da544bebbad6ab4adb1a890": {
     "model_module": "@jupyter-widgets/controls",
     "model_module_version": "1.5.0",
     "model_name": "FloatProgressModel",
     "state": {
      "_dom_classes": [],
      "_model_module": "@jupyter-widgets/controls",
      "_model_module_version": "1.5.0",
      "_model_name": "FloatProgressModel",
      "_view_count": null,
      "_view_module": "@jupyter-widgets/controls",
      "_view_module_version": "1.5.0",
      "_view_name": "ProgressView",
      "bar_style": "success",
      "description": "",
      "description_tooltip": null,
      "layout": "IPY_MODEL_fb42eb5bda164463a9a19602c25539e7",
      "max": 2500,
      "min": 0,
      "orientation": "horizontal",
      "style": "IPY_MODEL_d0873bf3f45d4f139d1461db2bed533b",
      "value": 2500
     }
    },
    "1fe5bdc49ea447d9b34d0a8a329729a3": {
     "model_module": "@jupyter-widgets/controls",
     "model_module_version": "1.5.0",
     "model_name": "DescriptionStyleModel",
     "state": {
      "_model_module": "@jupyter-widgets/controls",
      "_model_module_version": "1.5.0",
      "_model_name": "DescriptionStyleModel",
      "_view_count": null,
      "_view_module": "@jupyter-widgets/base",
      "_view_module_version": "1.2.0",
      "_view_name": "StyleView",
      "description_width": ""
     }
    },
    "2a14906c4a7f40b4986f31b4d13cefe7": {
     "model_module": "@jupyter-widgets/controls",
     "model_module_version": "1.5.0",
     "model_name": "FloatProgressModel",
     "state": {
      "_dom_classes": [],
      "_model_module": "@jupyter-widgets/controls",
      "_model_module_version": "1.5.0",
      "_model_name": "FloatProgressModel",
      "_view_count": null,
      "_view_module": "@jupyter-widgets/controls",
      "_view_module_version": "1.5.0",
      "_view_name": "ProgressView",
      "bar_style": "success",
      "description": "",
      "description_tooltip": null,
      "layout": "IPY_MODEL_55480fac81ab4d84b8016a8605d7c367",
      "max": 500,
      "min": 0,
      "orientation": "horizontal",
      "style": "IPY_MODEL_65050d37a5b64b03a452180c666d72a9",
      "value": 500
     }
    },
    "374bcf4fb30e41f59f8d0ba8f886376d": {
     "model_module": "@jupyter-widgets/controls",
     "model_module_version": "1.5.0",
     "model_name": "HTMLModel",
     "state": {
      "_dom_classes": [],
      "_model_module": "@jupyter-widgets/controls",
      "_model_module_version": "1.5.0",
      "_model_name": "HTMLModel",
      "_view_count": null,
      "_view_module": "@jupyter-widgets/controls",
      "_view_module_version": "1.5.0",
      "_view_name": "HTMLView",
      "description": "",
      "description_tooltip": null,
      "layout": "IPY_MODEL_b7899bd84c9d494b9f627ada906f14a2",
      "placeholder": "​",
      "style": "IPY_MODEL_1fe5bdc49ea447d9b34d0a8a329729a3",
      "value": " 2500/2500 [01:29&lt;00:00, 28.22it/s]"
     }
    },
    "3a727094566045c88db053dde043905e": {
     "model_module": "@jupyter-widgets/controls",
     "model_module_version": "1.5.0",
     "model_name": "HTMLModel",
     "state": {
      "_dom_classes": [],
      "_model_module": "@jupyter-widgets/controls",
      "_model_module_version": "1.5.0",
      "_model_name": "HTMLModel",
      "_view_count": null,
      "_view_module": "@jupyter-widgets/controls",
      "_view_module_version": "1.5.0",
      "_view_name": "HTMLView",
      "description": "",
      "description_tooltip": null,
      "layout": "IPY_MODEL_6deebdaefead4f4bb7e2843687cb9ee6",
      "placeholder": "​",
      "style": "IPY_MODEL_07fa779a389e4e88a124cec11ddfd061",
      "value": " 500/500 [00:21&lt;00:00, 23.17it/s]"
     }
    },
    "55480fac81ab4d84b8016a8605d7c367": {
     "model_module": "@jupyter-widgets/base",
     "model_module_version": "1.2.0",
     "model_name": "LayoutModel",
     "state": {
      "_model_module": "@jupyter-widgets/base",
      "_model_module_version": "1.2.0",
      "_model_name": "LayoutModel",
      "_view_count": null,
      "_view_module": "@jupyter-widgets/base",
      "_view_module_version": "1.2.0",
      "_view_name": "LayoutView",
      "align_content": null,
      "align_items": null,
      "align_self": null,
      "border": null,
      "bottom": null,
      "display": null,
      "flex": null,
      "flex_flow": null,
      "grid_area": null,
      "grid_auto_columns": null,
      "grid_auto_flow": null,
      "grid_auto_rows": null,
      "grid_column": null,
      "grid_gap": null,
      "grid_row": null,
      "grid_template_areas": null,
      "grid_template_columns": null,
      "grid_template_rows": null,
      "height": null,
      "justify_content": null,
      "justify_items": null,
      "left": null,
      "margin": null,
      "max_height": null,
      "max_width": null,
      "min_height": null,
      "min_width": null,
      "object_fit": null,
      "object_position": null,
      "order": null,
      "overflow": null,
      "overflow_x": null,
      "overflow_y": null,
      "padding": null,
      "right": null,
      "top": null,
      "visibility": null,
      "width": null
     }
    },
    "5db0ec08c7164ddba5633d01b47fae3b": {
     "model_module": "@jupyter-widgets/base",
     "model_module_version": "1.2.0",
     "model_name": "LayoutModel",
     "state": {
      "_model_module": "@jupyter-widgets/base",
      "_model_module_version": "1.2.0",
      "_model_name": "LayoutModel",
      "_view_count": null,
      "_view_module": "@jupyter-widgets/base",
      "_view_module_version": "1.2.0",
      "_view_name": "LayoutView",
      "align_content": null,
      "align_items": null,
      "align_self": null,
      "border": null,
      "bottom": null,
      "display": null,
      "flex": null,
      "flex_flow": null,
      "grid_area": null,
      "grid_auto_columns": null,
      "grid_auto_flow": null,
      "grid_auto_rows": null,
      "grid_column": null,
      "grid_gap": null,
      "grid_row": null,
      "grid_template_areas": null,
      "grid_template_columns": null,
      "grid_template_rows": null,
      "height": null,
      "justify_content": null,
      "justify_items": null,
      "left": null,
      "margin": null,
      "max_height": null,
      "max_width": null,
      "min_height": null,
      "min_width": null,
      "object_fit": null,
      "object_position": null,
      "order": null,
      "overflow": null,
      "overflow_x": null,
      "overflow_y": null,
      "padding": null,
      "right": null,
      "top": null,
      "visibility": null,
      "width": null
     }
    },
    "65050d37a5b64b03a452180c666d72a9": {
     "model_module": "@jupyter-widgets/controls",
     "model_module_version": "1.5.0",
     "model_name": "ProgressStyleModel",
     "state": {
      "_model_module": "@jupyter-widgets/controls",
      "_model_module_version": "1.5.0",
      "_model_name": "ProgressStyleModel",
      "_view_count": null,
      "_view_module": "@jupyter-widgets/base",
      "_view_module_version": "1.2.0",
      "_view_name": "StyleView",
      "bar_color": null,
      "description_width": ""
     }
    },
    "6deebdaefead4f4bb7e2843687cb9ee6": {
     "model_module": "@jupyter-widgets/base",
     "model_module_version": "1.2.0",
     "model_name": "LayoutModel",
     "state": {
      "_model_module": "@jupyter-widgets/base",
      "_model_module_version": "1.2.0",
      "_model_name": "LayoutModel",
      "_view_count": null,
      "_view_module": "@jupyter-widgets/base",
      "_view_module_version": "1.2.0",
      "_view_name": "LayoutView",
      "align_content": null,
      "align_items": null,
      "align_self": null,
      "border": null,
      "bottom": null,
      "display": null,
      "flex": null,
      "flex_flow": null,
      "grid_area": null,
      "grid_auto_columns": null,
      "grid_auto_flow": null,
      "grid_auto_rows": null,
      "grid_column": null,
      "grid_gap": null,
      "grid_row": null,
      "grid_template_areas": null,
      "grid_template_columns": null,
      "grid_template_rows": null,
      "height": null,
      "justify_content": null,
      "justify_items": null,
      "left": null,
      "margin": null,
      "max_height": null,
      "max_width": null,
      "min_height": null,
      "min_width": null,
      "object_fit": null,
      "object_position": null,
      "order": null,
      "overflow": null,
      "overflow_x": null,
      "overflow_y": null,
      "padding": null,
      "right": null,
      "top": null,
      "visibility": null,
      "width": null
     }
    },
    "a468ac5f59d144efb80a283d526b636d": {
     "model_module": "@jupyter-widgets/controls",
     "model_module_version": "1.5.0",
     "model_name": "HTMLModel",
     "state": {
      "_dom_classes": [],
      "_model_module": "@jupyter-widgets/controls",
      "_model_module_version": "1.5.0",
      "_model_name": "HTMLModel",
      "_view_count": null,
      "_view_module": "@jupyter-widgets/controls",
      "_view_module_version": "1.5.0",
      "_view_name": "HTMLView",
      "description": "",
      "description_tooltip": null,
      "layout": "IPY_MODEL_b7068d6a49304c71aaa9e2fc7ea434a1",
      "placeholder": "​",
      "style": "IPY_MODEL_bc6c534ff44f4dad89b2e0fd49cdbcc7",
      "value": "100%"
     }
    },
    "b7068d6a49304c71aaa9e2fc7ea434a1": {
     "model_module": "@jupyter-widgets/base",
     "model_module_version": "1.2.0",
     "model_name": "LayoutModel",
     "state": {
      "_model_module": "@jupyter-widgets/base",
      "_model_module_version": "1.2.0",
      "_model_name": "LayoutModel",
      "_view_count": null,
      "_view_module": "@jupyter-widgets/base",
      "_view_module_version": "1.2.0",
      "_view_name": "LayoutView",
      "align_content": null,
      "align_items": null,
      "align_self": null,
      "border": null,
      "bottom": null,
      "display": null,
      "flex": null,
      "flex_flow": null,
      "grid_area": null,
      "grid_auto_columns": null,
      "grid_auto_flow": null,
      "grid_auto_rows": null,
      "grid_column": null,
      "grid_gap": null,
      "grid_row": null,
      "grid_template_areas": null,
      "grid_template_columns": null,
      "grid_template_rows": null,
      "height": null,
      "justify_content": null,
      "justify_items": null,
      "left": null,
      "margin": null,
      "max_height": null,
      "max_width": null,
      "min_height": null,
      "min_width": null,
      "object_fit": null,
      "object_position": null,
      "order": null,
      "overflow": null,
      "overflow_x": null,
      "overflow_y": null,
      "padding": null,
      "right": null,
      "top": null,
      "visibility": null,
      "width": null
     }
    },
    "b7899bd84c9d494b9f627ada906f14a2": {
     "model_module": "@jupyter-widgets/base",
     "model_module_version": "1.2.0",
     "model_name": "LayoutModel",
     "state": {
      "_model_module": "@jupyter-widgets/base",
      "_model_module_version": "1.2.0",
      "_model_name": "LayoutModel",
      "_view_count": null,
      "_view_module": "@jupyter-widgets/base",
      "_view_module_version": "1.2.0",
      "_view_name": "LayoutView",
      "align_content": null,
      "align_items": null,
      "align_self": null,
      "border": null,
      "bottom": null,
      "display": null,
      "flex": null,
      "flex_flow": null,
      "grid_area": null,
      "grid_auto_columns": null,
      "grid_auto_flow": null,
      "grid_auto_rows": null,
      "grid_column": null,
      "grid_gap": null,
      "grid_row": null,
      "grid_template_areas": null,
      "grid_template_columns": null,
      "grid_template_rows": null,
      "height": null,
      "justify_content": null,
      "justify_items": null,
      "left": null,
      "margin": null,
      "max_height": null,
      "max_width": null,
      "min_height": null,
      "min_width": null,
      "object_fit": null,
      "object_position": null,
      "order": null,
      "overflow": null,
      "overflow_x": null,
      "overflow_y": null,
      "padding": null,
      "right": null,
      "top": null,
      "visibility": null,
      "width": null
     }
    },
    "bc6c534ff44f4dad89b2e0fd49cdbcc7": {
     "model_module": "@jupyter-widgets/controls",
     "model_module_version": "1.5.0",
     "model_name": "DescriptionStyleModel",
     "state": {
      "_model_module": "@jupyter-widgets/controls",
      "_model_module_version": "1.5.0",
      "_model_name": "DescriptionStyleModel",
      "_view_count": null,
      "_view_module": "@jupyter-widgets/base",
      "_view_module_version": "1.2.0",
      "_view_name": "StyleView",
      "description_width": ""
     }
    },
    "d0873bf3f45d4f139d1461db2bed533b": {
     "model_module": "@jupyter-widgets/controls",
     "model_module_version": "1.5.0",
     "model_name": "ProgressStyleModel",
     "state": {
      "_model_module": "@jupyter-widgets/controls",
      "_model_module_version": "1.5.0",
      "_model_name": "ProgressStyleModel",
      "_view_count": null,
      "_view_module": "@jupyter-widgets/base",
      "_view_module_version": "1.2.0",
      "_view_name": "StyleView",
      "bar_color": null,
      "description_width": ""
     }
    },
    "d7f15a7fe0014861b7df4478693e69d0": {
     "model_module": "@jupyter-widgets/controls",
     "model_module_version": "1.5.0",
     "model_name": "DescriptionStyleModel",
     "state": {
      "_model_module": "@jupyter-widgets/controls",
      "_model_module_version": "1.5.0",
      "_model_name": "DescriptionStyleModel",
      "_view_count": null,
      "_view_module": "@jupyter-widgets/base",
      "_view_module_version": "1.2.0",
      "_view_name": "StyleView",
      "description_width": ""
     }
    },
    "e96198e60e7943de842bc44795e715d5": {
     "model_module": "@jupyter-widgets/base",
     "model_module_version": "1.2.0",
     "model_name": "LayoutModel",
     "state": {
      "_model_module": "@jupyter-widgets/base",
      "_model_module_version": "1.2.0",
      "_model_name": "LayoutModel",
      "_view_count": null,
      "_view_module": "@jupyter-widgets/base",
      "_view_module_version": "1.2.0",
      "_view_name": "LayoutView",
      "align_content": null,
      "align_items": null,
      "align_self": null,
      "border": null,
      "bottom": null,
      "display": null,
      "flex": null,
      "flex_flow": null,
      "grid_area": null,
      "grid_auto_columns": null,
      "grid_auto_flow": null,
      "grid_auto_rows": null,
      "grid_column": null,
      "grid_gap": null,
      "grid_row": null,
      "grid_template_areas": null,
      "grid_template_columns": null,
      "grid_template_rows": null,
      "height": null,
      "justify_content": null,
      "justify_items": null,
      "left": null,
      "margin": null,
      "max_height": null,
      "max_width": null,
      "min_height": null,
      "min_width": null,
      "object_fit": null,
      "object_position": null,
      "order": null,
      "overflow": null,
      "overflow_x": null,
      "overflow_y": null,
      "padding": null,
      "right": null,
      "top": null,
      "visibility": null,
      "width": null
     }
    },
    "fb42eb5bda164463a9a19602c25539e7": {
     "model_module": "@jupyter-widgets/base",
     "model_module_version": "1.2.0",
     "model_name": "LayoutModel",
     "state": {
      "_model_module": "@jupyter-widgets/base",
      "_model_module_version": "1.2.0",
      "_model_name": "LayoutModel",
      "_view_count": null,
      "_view_module": "@jupyter-widgets/base",
      "_view_module_version": "1.2.0",
      "_view_name": "LayoutView",
      "align_content": null,
      "align_items": null,
      "align_self": null,
      "border": null,
      "bottom": null,
      "display": null,
      "flex": null,
      "flex_flow": null,
      "grid_area": null,
      "grid_auto_columns": null,
      "grid_auto_flow": null,
      "grid_auto_rows": null,
      "grid_column": null,
      "grid_gap": null,
      "grid_row": null,
      "grid_template_areas": null,
      "grid_template_columns": null,
      "grid_template_rows": null,
      "height": null,
      "justify_content": null,
      "justify_items": null,
      "left": null,
      "margin": null,
      "max_height": null,
      "max_width": null,
      "min_height": null,
      "min_width": null,
      "object_fit": null,
      "object_position": null,
      "order": null,
      "overflow": null,
      "overflow_x": null,
      "overflow_y": null,
      "padding": null,
      "right": null,
      "top": null,
      "visibility": null,
      "width": null
     }
    },
    "fd1a99aef9e0450e8d43f0bd4e25caf2": {
     "model_module": "@jupyter-widgets/base",
     "model_module_version": "1.2.0",
     "model_name": "LayoutModel",
     "state": {
      "_model_module": "@jupyter-widgets/base",
      "_model_module_version": "1.2.0",
      "_model_name": "LayoutModel",
      "_view_count": null,
      "_view_module": "@jupyter-widgets/base",
      "_view_module_version": "1.2.0",
      "_view_name": "LayoutView",
      "align_content": null,
      "align_items": null,
      "align_self": null,
      "border": null,
      "bottom": null,
      "display": null,
      "flex": null,
      "flex_flow": null,
      "grid_area": null,
      "grid_auto_columns": null,
      "grid_auto_flow": null,
      "grid_auto_rows": null,
      "grid_column": null,
      "grid_gap": null,
      "grid_row": null,
      "grid_template_areas": null,
      "grid_template_columns": null,
      "grid_template_rows": null,
      "height": null,
      "justify_content": null,
      "justify_items": null,
      "left": null,
      "margin": null,
      "max_height": null,
      "max_width": null,
      "min_height": null,
      "min_width": null,
      "object_fit": null,
      "object_position": null,
      "order": null,
      "overflow": null,
      "overflow_x": null,
      "overflow_y": null,
      "padding": null,
      "right": null,
      "top": null,
      "visibility": null,
      "width": null
     }
    }
   }
  }
 },
 "nbformat": 4,
 "nbformat_minor": 1
}
